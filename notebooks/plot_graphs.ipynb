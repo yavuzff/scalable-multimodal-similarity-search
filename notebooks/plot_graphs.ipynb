{
 "cells": [
  {
   "cell_type": "code",
   "id": "initial_id",
   "metadata": {
    "collapsed": true
   },
   "source": [
    "import matplotlib.pyplot as plt\n",
    "\n",
    "PLOT_DIR = \"../experiments/plots\""
   ],
   "outputs": [],
   "execution_count": null
  },
  {
   "metadata": {},
   "cell_type": "code",
   "source": [
    "search_data = {\n",
    "    \"num_entities\": [10_000, 25_000, 50_000, 75_000, 100_000, 150_000, 200_000, 250_000, 375_000, 500_000, 625_000, 750_000, 875_000, 1_000_000],\n",
    "    \"Exact\":[2.798,6.482,13.683,20.145,25.788,38.183,52.098,64.081,97.705,129.498,169.355,202.125,239.98,281.573],\n",
    "    \"MultiVecHNSW\": [0.572,0.625,0.759,0.750,0.774,0.815,0.824,0.962,1.015,1.143,1.148,1.158,1.147,1.187],\n",
    "    \"HNSWRerank\": [1.561,2.186,2.664,3.267,3.513,4.516,4.994,5.294,5.960,7.061,7.508,8.540,9.272,8.939]\n",
    "}"
   ],
   "id": "961d64466095c5e6",
   "outputs": [],
   "execution_count": null
  },
  {
   "metadata": {},
   "cell_type": "code",
   "source": [
    "plt.figure(figsize=(10, 6))\n",
    "plt.plot(search_data[\"num_entities\"], search_data[\"Exact\"], marker='o', linestyle='-', label='Sequential Search', color='red')\n",
    "plt.plot(search_data[\"num_entities\"], search_data[\"HNSWRerank\"], marker='^', linestyle='-', label='HNSWRerank', color='blue')\n",
    "plt.plot(search_data[\"num_entities\"], search_data[\"MultiVecHNSW\"], marker='s', linestyle='-', label='MultiVecHNSW', color='green')\n",
    "\n",
    "plt.xscale('log')\n",
    "plt.yscale('log')\n",
    "\n",
    "plt.xlabel('Number of Indexed Entities')\n",
    "plt.ylabel('Search Time (ms)')\n",
    "plt.title('Similarity Search Performance at Recall 0.95')\n",
    "plt.legend()\n",
    "\n",
    "# info box\n",
    "info_text = (\"Dimensions: [384, 768]\\nMetrics: [cos,cos]\\nWeights: [0.5,0.5]\\nRecall: 0.95\\nk=50\")\n",
    "plt.annotate(info_text, xy=(0.05, 0.75), xycoords='axes fraction', \n",
    "             bbox=dict(boxstyle='round,pad=0.3', edgecolor='black', facecolor='lightgray'))\n",
    "\n",
    "\n",
    "plt.grid(True, which=\"both\", linestyle=\"--\", linewidth=0.5)\n",
    "\n",
    "# save plot\n",
    "plt.savefig(f\"{PLOT_DIR}/similarity_search_performance.png\", dpi=300, bbox_inches='tight')\n",
    "\n",
    "plt.show()"
   ],
   "id": "35fc9e43398867d3",
   "outputs": [],
   "execution_count": null
  },
  {
   "metadata": {},
   "cell_type": "code",
   "source": [
    "construction_data =  {\n",
    "    \"num_entities\": [10_000, 25_000, 50_000, 75_000, 100_000, 150_000, 200_000, 250_000, 375_000, 500_000, 625_000, 750_000, 875_000, 1_000_000],\n",
    "    \"MultiVecHNSW\": [13.57,41.440,96.85,144.69,200.67,314.693376,430.1843251,550.52,870.79,1170.12,1447.72,1783.51,2128.36,2575.93],\n",
    "    \"HNSWRerank\": [15.96,53.86,125.21,202.61,276.81,438.93,607.42,777.03,1222.65,1683.63,2166.75,2708.79,3164.55,3838.43]\n",
    "}"
   ],
   "id": "7a37d1338eb08778",
   "outputs": [],
   "execution_count": null
  },
  {
   "metadata": {},
   "cell_type": "code",
   "source": [
    "plt.figure(figsize=(10, 6))\n",
    "plt.plot(construction_data[\"num_entities\"], construction_data[\"HNSWRerank\"], marker='^', linestyle='-', label='HNSWRerank', color='blue')\n",
    "plt.plot(construction_data[\"num_entities\"], construction_data[\"MultiVecHNSW\"], marker='s', linestyle='-', label='MultiVecHNSW', color='green')\n",
    "\n",
    "plt.xscale('log')\n",
    "plt.yscale('log')\n",
    "\n",
    "\n",
    "plt.xlabel('Number of Indexed Entities')\n",
    "plt.ylabel('Construction time (s)')\n",
    "plt.title('Index Construction Time for Different Dataset Sizes')\n",
    "plt.legend()\n",
    "\n",
    "# info box\n",
    "info_text = (\"Dimensions: [384, 768]\\nMetrics: [cos,cos]\\nWeights: [0.5,0.5]\")\n",
    "plt.annotate(info_text, xy=(0.05, 0.75), xycoords='axes fraction', \n",
    "             bbox=dict(boxstyle='round,pad=0.3', edgecolor='black', facecolor='lightgray'))\n",
    "\n",
    "\n",
    "plt.grid(True, which=\"both\", linestyle=\"--\", linewidth=0.5)\n",
    "\n",
    "# save plot\n",
    "plt.savefig(f\"{PLOT_DIR}/index_construction.png\", dpi=300, bbox_inches='tight')\n",
    "\n",
    "plt.show()"
   ],
   "id": "c035cfede293e3ea",
   "outputs": [],
   "execution_count": null
  },
  {
   "metadata": {},
   "cell_type": "code",
   "source": "",
   "id": "8ede9b287ad575d8",
   "outputs": [],
   "execution_count": null
  },
  {
   "metadata": {},
   "cell_type": "code",
   "source": "",
   "id": "ad29c8f180906031",
   "outputs": [],
   "execution_count": null
  }
 ],
 "metadata": {
  "kernelspec": {
   "display_name": "Python 3",
   "language": "python",
   "name": "python3"
  },
  "language_info": {
   "codemirror_mode": {
    "name": "ipython",
    "version": 2
   },
   "file_extension": ".py",
   "mimetype": "text/x-python",
   "name": "python",
   "nbconvert_exporter": "python",
   "pygments_lexer": "ipython2",
   "version": "2.7.6"
  }
 },
 "nbformat": 4,
 "nbformat_minor": 5
}
