{
 "cells": [
  {
   "cell_type": "code",
   "id": "initial_id",
   "metadata": {
    "collapsed": true,
    "ExecuteTime": {
     "end_time": "2025-02-06T23:14:34.136256Z",
     "start_time": "2025-02-06T23:14:34.105399Z"
    }
   },
   "source": [
    "\"\"\"\n",
    "This notebook is used to play with the dataset, displaying images and understand the structure of the dataset. \n",
    "Note: we can use this to check if duplicate images also have duplicate captions.\n",
    "\"\"\"\n",
    "%load_ext autoreload\n",
    "%autoreload 2\n",
    "import pandas as pd\n",
    "import os"
   ],
   "outputs": [
    {
     "name": "stdout",
     "output_type": "stream",
     "text": [
      "The autoreload extension is already loaded. To reload it, use:\n",
      "  %reload_ext autoreload\n"
     ]
    }
   ],
   "execution_count": 25
  },
  {
   "metadata": {
    "ExecuteTime": {
     "end_time": "2025-02-06T23:09:48.664671Z",
     "start_time": "2025-02-06T23:09:48.636771Z"
    }
   },
   "cell_type": "code",
   "source": [
    "# specify dataset and paths to work on\n",
    "DATASET_ENTITY_COUNT = 20000\n",
    "DATASET_BASE_PATH = f\"/Users/yavuz/data/LAION-{DATASET_ENTITY_COUNT}/\"\n",
    "\n",
    "METADATA_PATH = DATASET_BASE_PATH + \"metadata.parquet\"\n",
    "IMAGES_PATH = DATASET_BASE_PATH + \"images/\"\n",
    "\n",
    "vector_path = DATASET_BASE_PATH + \"vectors/\"\n",
    "\n",
    "assert os.path.exists(METADATA_PATH)\n",
    "assert os.path.exists(IMAGES_PATH)\n",
    "assert os.path.exists(vector_path)"
   ],
   "id": "287897751e0a6ac1",
   "outputs": [],
   "execution_count": 6
  },
  {
   "metadata": {
    "ExecuteTime": {
     "end_time": "2025-02-06T23:10:08.588675Z",
     "start_time": "2025-02-06T23:10:08.525125Z"
    }
   },
   "cell_type": "code",
   "source": [
    "df=pd.read_parquet(METADATA_PATH)\n",
    "df"
   ],
   "id": "b4761629eb442925",
   "outputs": [
    {
     "data": {
      "text/plain": [
       "       index     SAMPLE_ID                                                URL  \\\n",
       "0          1  1.060015e+12  https://thumbs.ebaystatic.com/images/g/DYEAAOS...   \n",
       "1          2  3.372497e+12  https://farm1.staticflickr.com/784/40182677504...   \n",
       "2          3  3.820200e+11  https://t2.ftcdn.net/jpg/00/58/35/35/240_F_583...   \n",
       "3          5  2.179119e+12  https://i.pinimg.com/236x/03/38/05/0338055833e...   \n",
       "4          7  1.727450e+11  http://cdn.pastemagazine.com/www/articles/2011...   \n",
       "...      ...           ...                                                ...   \n",
       "12783  19994  4.063788e+12  https://publicauthordotcom.files.wordpress.com...   \n",
       "12784  19995  1.530866e+12  https://www.digsdigs.com/photos/sweet-shabby-c...   \n",
       "12785  19997  4.247173e+12  https://goalstudio.com/web/product/medium/2020...   \n",
       "12786  19998  1.505120e+11  https://thumbs.dreamstime.com/m/clown-toy-colo...   \n",
       "12787  19999  3.412030e+12  https://cdn11.bigcommerce.com/s-f90qkbm3hv/ima...   \n",
       "\n",
       "                                                    TEXT  HEIGHT   WIDTH  \\\n",
       "0      Silverline Air Framing Nailer 90mm 10 - 12 Gau...   225.0   225.0   \n",
       "1                                        Anhui Mountains   800.0   514.0   \n",
       "2                             Acute pain in a woman knee   257.0   240.0   \n",
       "3             Essentials Barnwood 70-inch TV Media Stand   236.0   236.0   \n",
       "4      Ben Affleck Could Be Latest Addition To <em>Th...   320.0   320.0   \n",
       "...                                                  ...     ...     ...   \n",
       "12783                        Letters over the Wall cover   205.0   300.0   \n",
       "12784  Http Www Digsdigs Com 33 Sweet Shabby Chic Bed...   480.0   486.0   \n",
       "12785                      TOTTENHAM 940 BALL CAP - GOLD  1100.0  1460.0   \n",
       "12786  Clown toy color vector illustration Royalty Fr...    92.0   130.0   \n",
       "12787                       Rivendale 800XL AirBeam tent   500.0   229.0   \n",
       "\n",
       "      LICENSE      NSFW  similarity  \n",
       "0           ?  UNLIKELY    0.312485  \n",
       "1           ?  UNLIKELY    0.316512  \n",
       "2           ?  UNLIKELY    0.344278  \n",
       "3           ?  UNLIKELY    0.332799  \n",
       "4           ?  UNLIKELY    0.353303  \n",
       "...       ...       ...         ...  \n",
       "12783       ?  UNLIKELY    0.303382  \n",
       "12784       ?  UNLIKELY    0.352294  \n",
       "12785       ?  UNLIKELY    0.388634  \n",
       "12786       ?  UNLIKELY    0.349995  \n",
       "12787       ?  UNLIKELY    0.335180  \n",
       "\n",
       "[12788 rows x 9 columns]"
      ],
      "text/html": [
       "<div>\n",
       "<style scoped>\n",
       "    .dataframe tbody tr th:only-of-type {\n",
       "        vertical-align: middle;\n",
       "    }\n",
       "\n",
       "    .dataframe tbody tr th {\n",
       "        vertical-align: top;\n",
       "    }\n",
       "\n",
       "    .dataframe thead th {\n",
       "        text-align: right;\n",
       "    }\n",
       "</style>\n",
       "<table border=\"1\" class=\"dataframe\">\n",
       "  <thead>\n",
       "    <tr style=\"text-align: right;\">\n",
       "      <th></th>\n",
       "      <th>index</th>\n",
       "      <th>SAMPLE_ID</th>\n",
       "      <th>URL</th>\n",
       "      <th>TEXT</th>\n",
       "      <th>HEIGHT</th>\n",
       "      <th>WIDTH</th>\n",
       "      <th>LICENSE</th>\n",
       "      <th>NSFW</th>\n",
       "      <th>similarity</th>\n",
       "    </tr>\n",
       "  </thead>\n",
       "  <tbody>\n",
       "    <tr>\n",
       "      <th>0</th>\n",
       "      <td>1</td>\n",
       "      <td>1.060015e+12</td>\n",
       "      <td>https://thumbs.ebaystatic.com/images/g/DYEAAOS...</td>\n",
       "      <td>Silverline Air Framing Nailer 90mm 10 - 12 Gau...</td>\n",
       "      <td>225.0</td>\n",
       "      <td>225.0</td>\n",
       "      <td>?</td>\n",
       "      <td>UNLIKELY</td>\n",
       "      <td>0.312485</td>\n",
       "    </tr>\n",
       "    <tr>\n",
       "      <th>1</th>\n",
       "      <td>2</td>\n",
       "      <td>3.372497e+12</td>\n",
       "      <td>https://farm1.staticflickr.com/784/40182677504...</td>\n",
       "      <td>Anhui Mountains</td>\n",
       "      <td>800.0</td>\n",
       "      <td>514.0</td>\n",
       "      <td>?</td>\n",
       "      <td>UNLIKELY</td>\n",
       "      <td>0.316512</td>\n",
       "    </tr>\n",
       "    <tr>\n",
       "      <th>2</th>\n",
       "      <td>3</td>\n",
       "      <td>3.820200e+11</td>\n",
       "      <td>https://t2.ftcdn.net/jpg/00/58/35/35/240_F_583...</td>\n",
       "      <td>Acute pain in a woman knee</td>\n",
       "      <td>257.0</td>\n",
       "      <td>240.0</td>\n",
       "      <td>?</td>\n",
       "      <td>UNLIKELY</td>\n",
       "      <td>0.344278</td>\n",
       "    </tr>\n",
       "    <tr>\n",
       "      <th>3</th>\n",
       "      <td>5</td>\n",
       "      <td>2.179119e+12</td>\n",
       "      <td>https://i.pinimg.com/236x/03/38/05/0338055833e...</td>\n",
       "      <td>Essentials Barnwood 70-inch TV Media Stand</td>\n",
       "      <td>236.0</td>\n",
       "      <td>236.0</td>\n",
       "      <td>?</td>\n",
       "      <td>UNLIKELY</td>\n",
       "      <td>0.332799</td>\n",
       "    </tr>\n",
       "    <tr>\n",
       "      <th>4</th>\n",
       "      <td>7</td>\n",
       "      <td>1.727450e+11</td>\n",
       "      <td>http://cdn.pastemagazine.com/www/articles/2011...</td>\n",
       "      <td>Ben Affleck Could Be Latest Addition To &lt;em&gt;Th...</td>\n",
       "      <td>320.0</td>\n",
       "      <td>320.0</td>\n",
       "      <td>?</td>\n",
       "      <td>UNLIKELY</td>\n",
       "      <td>0.353303</td>\n",
       "    </tr>\n",
       "    <tr>\n",
       "      <th>...</th>\n",
       "      <td>...</td>\n",
       "      <td>...</td>\n",
       "      <td>...</td>\n",
       "      <td>...</td>\n",
       "      <td>...</td>\n",
       "      <td>...</td>\n",
       "      <td>...</td>\n",
       "      <td>...</td>\n",
       "      <td>...</td>\n",
       "    </tr>\n",
       "    <tr>\n",
       "      <th>12783</th>\n",
       "      <td>19994</td>\n",
       "      <td>4.063788e+12</td>\n",
       "      <td>https://publicauthordotcom.files.wordpress.com...</td>\n",
       "      <td>Letters over the Wall cover</td>\n",
       "      <td>205.0</td>\n",
       "      <td>300.0</td>\n",
       "      <td>?</td>\n",
       "      <td>UNLIKELY</td>\n",
       "      <td>0.303382</td>\n",
       "    </tr>\n",
       "    <tr>\n",
       "      <th>12784</th>\n",
       "      <td>19995</td>\n",
       "      <td>1.530866e+12</td>\n",
       "      <td>https://www.digsdigs.com/photos/sweet-shabby-c...</td>\n",
       "      <td>Http Www Digsdigs Com 33 Sweet Shabby Chic Bed...</td>\n",
       "      <td>480.0</td>\n",
       "      <td>486.0</td>\n",
       "      <td>?</td>\n",
       "      <td>UNLIKELY</td>\n",
       "      <td>0.352294</td>\n",
       "    </tr>\n",
       "    <tr>\n",
       "      <th>12785</th>\n",
       "      <td>19997</td>\n",
       "      <td>4.247173e+12</td>\n",
       "      <td>https://goalstudio.com/web/product/medium/2020...</td>\n",
       "      <td>TOTTENHAM 940 BALL CAP - GOLD</td>\n",
       "      <td>1100.0</td>\n",
       "      <td>1460.0</td>\n",
       "      <td>?</td>\n",
       "      <td>UNLIKELY</td>\n",
       "      <td>0.388634</td>\n",
       "    </tr>\n",
       "    <tr>\n",
       "      <th>12786</th>\n",
       "      <td>19998</td>\n",
       "      <td>1.505120e+11</td>\n",
       "      <td>https://thumbs.dreamstime.com/m/clown-toy-colo...</td>\n",
       "      <td>Clown toy color vector illustration Royalty Fr...</td>\n",
       "      <td>92.0</td>\n",
       "      <td>130.0</td>\n",
       "      <td>?</td>\n",
       "      <td>UNLIKELY</td>\n",
       "      <td>0.349995</td>\n",
       "    </tr>\n",
       "    <tr>\n",
       "      <th>12787</th>\n",
       "      <td>19999</td>\n",
       "      <td>3.412030e+12</td>\n",
       "      <td>https://cdn11.bigcommerce.com/s-f90qkbm3hv/ima...</td>\n",
       "      <td>Rivendale 800XL AirBeam tent</td>\n",
       "      <td>500.0</td>\n",
       "      <td>229.0</td>\n",
       "      <td>?</td>\n",
       "      <td>UNLIKELY</td>\n",
       "      <td>0.335180</td>\n",
       "    </tr>\n",
       "  </tbody>\n",
       "</table>\n",
       "<p>12788 rows × 9 columns</p>\n",
       "</div>"
      ]
     },
     "execution_count": 8,
     "metadata": {},
     "output_type": "execute_result"
    }
   ],
   "execution_count": 8
  },
  {
   "metadata": {
    "ExecuteTime": {
     "end_time": "2025-02-06T23:13:51.886658Z",
     "start_time": "2025-02-06T23:13:51.862144Z"
    }
   },
   "cell_type": "code",
   "source": [
    "id = 15\n",
    "df.iloc[id]"
   ],
   "id": "28ee2e6f838e42cc",
   "outputs": [
    {
     "data": {
      "text/plain": [
       "index                                                        24\n",
       "SAMPLE_ID                                       1267734014100.0\n",
       "URL           https://cdn3.mecum.com/auctions/ha0413/ha0413-...\n",
       "TEXT                          1990 Chevrolet Corvette ZR1 Image\n",
       "HEIGHT                                                    416.0\n",
       "WIDTH                                                     234.0\n",
       "LICENSE                                                       ?\n",
       "NSFW                                                   UNLIKELY\n",
       "similarity                                             0.311244\n",
       "Name: 15, dtype: object"
      ]
     },
     "execution_count": 22,
     "metadata": {},
     "output_type": "execute_result"
    }
   ],
   "execution_count": 22
  },
  {
   "metadata": {
    "ExecuteTime": {
     "end_time": "2025-02-06T23:13:52.606070Z",
     "start_time": "2025-02-06T23:13:52.580398Z"
    }
   },
   "cell_type": "code",
   "source": "id, df[\"TEXT\"][id], df[\"URL\"][id], df[\"index\"][id]",
   "id": "f0187f5c746b1cb5",
   "outputs": [
    {
     "data": {
      "text/plain": [
       "(15,\n",
       " '1990 Chevrolet Corvette ZR1 Image',\n",
       " 'https://cdn3.mecum.com/auctions/ha0413/ha0413-154735/consign/ha0413-154735_consign.jpg?1363216046000',\n",
       " 24)"
      ]
     },
     "execution_count": 23,
     "metadata": {},
     "output_type": "execute_result"
    }
   ],
   "execution_count": 23
  },
  {
   "metadata": {
    "ExecuteTime": {
     "end_time": "2025-02-06T23:13:53.089660Z",
     "start_time": "2025-02-06T23:13:53.061595Z"
    }
   },
   "cell_type": "code",
   "source": [
    "from IPython.display import display, Image\n",
    "def get_image(vector_id: int, images_path: str):\n",
    "    \"\"\"\n",
    "    Given a vector id and base images path (IMAGES_PATH), returns the image.\n",
    "    \"\"\"\n",
    "    shard = str(vector_id // 10000).zfill(5)\n",
    "    index = str(vector_id % 10000).zfill(4)\n",
    "    image_path = f\"{images_path}/{shard}/{shard}{index}.jpg\"\n",
    "    return Image(filename=image_path) \n",
    "display(get_image(id, IMAGES_PATH))"
   ],
   "id": "e3ac6a239ac233af",
   "outputs": [
    {
     "data": {
      "image/jpeg": "[encoded data removed]",
      "text/plain": [
       "<IPython.core.display.Image object>"
      ]
     },
     "metadata": {},
     "output_type": "display_data"
    }
   ],
   "execution_count": 24
  },
  {
   "metadata": {},
   "cell_type": "code",
   "outputs": [],
   "execution_count": null,
   "source": "",
   "id": "c1bdeff2b98b7c42"
  }
 ],
 "metadata": {
  "kernelspec": {
   "display_name": "Python 3",
   "language": "python",
   "name": "python3"
  },
  "language_info": {
   "codemirror_mode": {
    "name": "ipython",
    "version": 2
   },
   "file_extension": ".py",
   "mimetype": "text/x-python",
   "name": "python",
   "nbconvert_exporter": "python",
   "pygments_lexer": "ipython2",
   "version": "2.7.6"
  }
 },
 "nbformat": 4,
 "nbformat_minor": 5
}
