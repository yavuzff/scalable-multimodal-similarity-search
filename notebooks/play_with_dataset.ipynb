{
 "cells": [
  {
   "cell_type": "code",
   "id": "initial_id",
   "metadata": {
    "collapsed": true
   },
   "source": [
    "\"\"\"\n",
    "This notebook is used to play with the dataset, displaying images and understand the structure of the dataset. \n",
    "Note: we can use this to check if duplicate images also have duplicate captions.\n",
    "\"\"\"\n",
    "%load_ext autoreload\n",
    "%autoreload 2\n",
    "import pandas as pd\n",
    "import os\n",
    "import numpy as np"
   ],
   "outputs": [],
   "execution_count": null
  },
  {
   "metadata": {},
   "cell_type": "code",
   "source": [
    "# specify dataset and paths to work on\n",
    "DATASET_ENTITY_COUNT = 20_000 # 1_900_000 20_000 222\n",
    "DATASET_BASE_PATH = f\"/Users/yavuz/data/LAION-{DATASET_ENTITY_COUNT}/\"\n",
    "\n",
    "METADATA_PATH = DATASET_BASE_PATH + \"metadata.parquet\"\n",
    "IMAGES_PATH = DATASET_BASE_PATH + \"images/\"\n",
    "\n",
    "vector_path = DATASET_BASE_PATH + \"vectors/\"\n",
    "\n",
    "assert os.path.exists(METADATA_PATH)\n",
    "assert os.path.exists(IMAGES_PATH)\n",
    "assert os.path.exists(vector_path)"
   ],
   "id": "287897751e0a6ac1",
   "outputs": [],
   "execution_count": null
  },
  {
   "metadata": {
    "ExecuteTime": {
     "end_time": "2025-03-07T04:22:32.585970Z",
     "start_time": "2025-03-07T04:22:32.065303Z"
    }
   },
   "cell_type": "code",
   "source": [
    "metadata=pd.read_parquet(METADATA_PATH)\n",
    "metadata[\"TEXT\"]"
   ],
   "id": "b4761629eb442925",
   "outputs": [
    {
     "data": {
      "text/plain": [
       "0                                                               Anhui Mountains\n",
       "1                                                    Acute pain in a woman knee\n",
       "2                                    Essentials Barnwood 70-inch TV Media Stand\n",
       "3        Ben Affleck Could Be Latest Addition To <em>The Great Gatsby</em> Cast\n",
       "4                                        Minnesota Department of Transportation\n",
       "                                          ...                                  \n",
       "12619                                               Letters over the Wall cover\n",
       "12620            Http Www Digsdigs Com 33 Sweet Shabby Chic Bedroom Decor Ideas\n",
       "12621                                             TOTTENHAM 940 BALL CAP - GOLD\n",
       "12622        Clown toy color vector illustration Royalty Free Stock Photography\n",
       "12623                                              Rivendale 800XL AirBeam tent\n",
       "Name: TEXT, Length: 12624, dtype: object"
      ]
     },
     "execution_count": 55,
     "metadata": {},
     "output_type": "execute_result"
    }
   ],
   "execution_count": 55
  },
  {
   "metadata": {},
   "cell_type": "code",
   "source": [
    "# display single match\n",
    "id = 69\n",
    "metadata.iloc[id]"
   ],
   "id": "28ee2e6f838e42cc",
   "outputs": [],
   "execution_count": null
  },
  {
   "metadata": {},
   "cell_type": "code",
   "source": "id, metadata[\"TEXT\"][id], metadata[\"URL\"][id], metadata[\"index\"][id]",
   "id": "f0187f5c746b1cb5",
   "outputs": [],
   "execution_count": null
  },
  {
   "metadata": {},
   "cell_type": "code",
   "source": [
    "def get_image_path(vector_id: int, images_path: str):\n",
    "    \"\"\"\n",
    "    Given a vector id and base images path (IMAGES_PATH), returns the image.\n",
    "    \"\"\"\n",
    "    shard = str(vector_id // 10000).zfill(5)\n",
    "    index = str(vector_id % 10000).zfill(4)\n",
    "    image_path = f\"{images_path}/{shard}/{shard}{index}.jpg\"\n",
    "    return image_path"
   ],
   "id": "5fc2349f96bb405c",
   "outputs": [],
   "execution_count": null
  },
  {
   "metadata": {},
   "cell_type": "code",
   "source": [
    "from IPython.display import display, Image\n",
    "\n",
    "def get_image(vector_id: int, images_path: str):\n",
    "    \"\"\"\n",
    "    Given a vector id and base images path (IMAGES_PATH), returns the image.\n",
    "    \"\"\"\n",
    "    shard = str(vector_id // 10000).zfill(5)\n",
    "    index = str(vector_id % 10000).zfill(4)\n",
    "    image_path = f\"{images_path}/{shard}/{shard}{index}.jpg\"\n",
    "    return Image(filename=image_path) \n",
    "display(get_image(id, IMAGES_PATH))"
   ],
   "id": "e3ac6a239ac233af",
   "outputs": [],
   "execution_count": null
  },
  {
   "metadata": {},
   "cell_type": "code",
   "source": [
    "# load vectors for id\n",
    "text_vector_path = vector_path+\"text_vectors\"\n",
    "image_vector_path = vector_path+\"image_vectors\"\n",
    "\n",
    "text_vectors = np.load(text_vector_path+\".npy\")\n",
    "image_vectors = np.load(image_vector_path+\".npy\")"
   ],
   "id": "c1bdeff2b98b7c42",
   "outputs": [],
   "execution_count": null
  },
  {
   "metadata": {},
   "cell_type": "code",
   "source": [
    "# dot it with itself\n",
    "np.dot(text_vectors[id], text_vectors[id])\n",
    "text_vectors[id]"
   ],
   "id": "1d81f80d790aeba7",
   "outputs": [],
   "execution_count": null
  },
  {
   "metadata": {},
   "cell_type": "code",
   "source": [
    "np.dot(image_vectors[id], image_vectors[id])\n",
    "image_vectors[id]"
   ],
   "id": "3bea84b5a91bcea3",
   "outputs": [],
   "execution_count": null
  },
  {
   "metadata": {},
   "cell_type": "code",
   "source": "",
   "id": "448e2eef90cdfce9",
   "outputs": [],
   "execution_count": null
  },
  {
   "metadata": {},
   "cell_type": "code",
   "source": [
    "# look at placeholder images:\n",
    "placeholder_images_file_name = \"placeholder_images-ALLPAIRS-3percent-duplicates-bad.npy\"\n",
    "placeholder_images = np.load(vector_path+placeholder_images_file_name)\n",
    "placeholder_images.shape"
   ],
   "id": "1aaa89da53f1063",
   "outputs": [],
   "execution_count": null
  },
  {
   "metadata": {},
   "cell_type": "code",
   "source": "",
   "id": "634be8007fc38cf6",
   "outputs": [],
   "execution_count": null
  },
  {
   "metadata": {},
   "cell_type": "code",
   "source": [
    "# play with audio generation\n",
    "from diffusers import AudioLDM2Pipeline\n",
    "import torch\n",
    "import scipy"
   ],
   "id": "bd14f8a8028eb473",
   "outputs": [],
   "execution_count": null
  },
  {
   "metadata": {},
   "cell_type": "code",
   "source": [
    "repo_id = \"cvssp/audioldm2\"\n",
    "pipe = AudioLDM2Pipeline.from_pretrained(repo_id, torch_dtype=torch.float32)\n",
    "\n",
    "if torch.cuda.is_available():\n",
    "    pipe = pipe.to(\"cuda\")"
   ],
   "id": "4d259abcd3b1a4b6",
   "outputs": [],
   "execution_count": null
  },
  {
   "metadata": {},
   "cell_type": "code",
   "source": [
    "def generate_audio_from_text(text: str, pipe: AudioLDM2Pipeline):\n",
    "    prompt = \"Sound associateed with: \" + text\n",
    "    negative_prompt = \"Low quality.\"\n",
    "\n",
    "    # run the generation\n",
    "    audio = pipe(\n",
    "        prompt,\n",
    "        negative_prompt=negative_prompt,\n",
    "        num_inference_steps=10, # original was 200\n",
    "        audio_length_in_s=3.0, #original was 5.0\n",
    "        num_waveforms_per_prompt=2, #original was 3\n",
    "    )\n",
    "    return audio"
   ],
   "id": "4c66c1d8c76d3a73",
   "outputs": [],
   "execution_count": null
  },
  {
   "metadata": {},
   "cell_type": "code",
   "source": "audio = generate_audio_from_text(\"Oval_drum_small2\", pipe)",
   "id": "b56bf63847710bf2",
   "outputs": [],
   "execution_count": null
  },
  {
   "metadata": {},
   "cell_type": "code",
   "source": "a=audio.audios",
   "id": "bb98af62e9ff9fd3",
   "outputs": [],
   "execution_count": null
  },
  {
   "metadata": {},
   "cell_type": "code",
   "source": "scipy.io.wavfile.write(\"audio.wav\", rate=16000, data=a[0])",
   "id": "4e910dfbd9609b5c",
   "outputs": [],
   "execution_count": null
  },
  {
   "metadata": {},
   "cell_type": "code",
   "source": "pipe.vae",
   "id": "d4d42c68f39e593b",
   "outputs": [],
   "execution_count": null
  },
  {
   "metadata": {},
   "cell_type": "code",
   "source": [
    "vae_encoder = pipe.vae.encoder\n",
    "a[0]"
   ],
   "id": "b7865a558df84541",
   "outputs": [],
   "execution_count": null
  },
  {
   "metadata": {},
   "cell_type": "code",
   "source": [
    "audio_tensor = a[0]\n",
    "latent_representation = vae_encoder(audio_tensor)"
   ],
   "id": "93326f1c2cc76d6c",
   "outputs": [],
   "execution_count": null
  },
  {
   "metadata": {},
   "cell_type": "code",
   "source": "latent_representation = vae_encoder(a)",
   "id": "3c79e097e2837343",
   "outputs": [],
   "execution_count": null
  },
  {
   "metadata": {},
   "cell_type": "code",
   "source": "vae_encoder = pipe.vae",
   "id": "52f2bb54e26f0ea7",
   "outputs": [],
   "execution_count": null
  },
  {
   "metadata": {},
   "cell_type": "code",
   "source": "audio[2]",
   "id": "676de9109227ae11",
   "outputs": [],
   "execution_count": null
  },
  {
   "metadata": {},
   "cell_type": "code",
   "source": "audio2 = generate_audio_from_text(\"Oval_drum_small2\", pipe)",
   "id": "7429a6714c0fb3f",
   "outputs": [],
   "execution_count": null
  },
  {
   "metadata": {},
   "cell_type": "code",
   "source": "audio2.audios",
   "id": "ec634be751464f6f",
   "outputs": [],
   "execution_count": null
  },
  {
   "metadata": {},
   "cell_type": "code",
   "source": "actual_audio2= audio2.audios",
   "id": "86a8bbe0d13e28a9",
   "outputs": [],
   "execution_count": null
  },
  {
   "metadata": {},
   "cell_type": "code",
   "source": "",
   "id": "fbb74b96f0a2035c",
   "outputs": [],
   "execution_count": null
  },
  {
   "metadata": {},
   "cell_type": "code",
   "source": "",
   "id": "177c54213351ff40",
   "outputs": [],
   "execution_count": null
  },
  {
   "metadata": {},
   "cell_type": "code",
   "source": [
    "# play with video generation\n",
    "import torch\n",
    "from diffusers import CogVideoXImageToVideoPipeline\n",
    "from diffusers.utils import export_to_video, load_image"
   ],
   "id": "f584f40f98814c65",
   "outputs": [],
   "execution_count": null
  },
  {
   "metadata": {},
   "cell_type": "code",
   "source": [
    "i = 0\n",
    "text = metadata[\"TEXT\"].iloc[i]\n",
    "image_path = get_image_path(i, IMAGES_PATH)\n",
    "print(text)\n",
    "display(get_image(i, IMAGES_PATH))"
   ],
   "id": "ff6d1fbd27228e8a",
   "outputs": [],
   "execution_count": null
  },
  {
   "metadata": {},
   "cell_type": "code",
   "source": [
    "prompt = \"Video of: \" + text\n",
    "image = load_image(image_path)"
   ],
   "id": "c20369bd8aba777f",
   "outputs": [],
   "execution_count": null
  },
  {
   "metadata": {},
   "cell_type": "code",
   "source": [
    "pipe = CogVideoXImageToVideoPipeline.from_pretrained(\n",
    "    \"THUDM/CogVideoX-5b-I2V\",\n",
    "    torch_dtype=torch.bfloat16\n",
    ")"
   ],
   "id": "9a6c0d44da0e6302",
   "outputs": [],
   "execution_count": null
  },
  {
   "metadata": {},
   "cell_type": "code",
   "source": [
    "# reduce memory requirements \n",
    "pipe.vae.enable_tiling()\n",
    "pipe.vae.enable_slicing()\n",
    "\n",
    "video = pipe(\n",
    "    prompt=prompt,\n",
    "    image=image,\n",
    "    num_videos_per_prompt=1,\n",
    "    num_inference_steps=50,\n",
    "    num_frames=49,\n",
    "    guidance_scale=6,\n",
    "    generator=torch.Generator(device=\"cuda\").manual_seed(42),\n",
    ").frames[0]"
   ],
   "id": "5b5ba09bf5827d38",
   "outputs": [],
   "execution_count": null
  },
  {
   "metadata": {},
   "cell_type": "code",
   "source": "export_to_video(video, \"output.mp4\", fps=8)",
   "id": "ee47b8ab48ea2bc4",
   "outputs": [],
   "execution_count": null
  },
  {
   "metadata": {},
   "cell_type": "code",
   "source": "",
   "id": "16a58be8a3b551d6",
   "outputs": [],
   "execution_count": null
  },
  {
   "metadata": {},
   "cell_type": "markdown",
   "source": "",
   "id": "a3fbd24e32ff9bf9"
  }
 ],
 "metadata": {
  "kernelspec": {
   "display_name": "Python 3",
   "language": "python",
   "name": "python3"
  },
  "language_info": {
   "codemirror_mode": {
    "name": "ipython",
    "version": 2
   },
   "file_extension": ".py",
   "mimetype": "text/x-python",
   "name": "python",
   "nbconvert_exporter": "python",
   "pygments_lexer": "ipython2",
   "version": "2.7.6"
  }
 },
 "nbformat": 4,
 "nbformat_minor": 5
}
