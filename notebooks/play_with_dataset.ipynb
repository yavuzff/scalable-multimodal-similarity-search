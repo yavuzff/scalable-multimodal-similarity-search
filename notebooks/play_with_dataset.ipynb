{
 "cells": [
  {
   "cell_type": "code",
   "id": "initial_id",
   "metadata": {
    "collapsed": true
   },
   "source": [
    "\"\"\"\n",
    "This notebook is used to play with the dataset, displaying images and understand the structure of the dataset. \n",
    "Note: we can use this to check if duplicate images also have duplicate captions.\n",
    "\"\"\"\n",
    "%load_ext autoreload\n",
    "%autoreload 2\n",
    "import pandas as pd\n",
    "import os\n",
    "import numpy as np"
   ],
   "outputs": [],
   "execution_count": null
  },
  {
   "metadata": {},
   "cell_type": "code",
   "source": [
    "# specify dataset and paths to work on\n",
    "DATASET_ENTITY_COUNT = 222 # 1_900_000 20_000 222\n",
    "DATASET_BASE_PATH = f\"/Users/yavuz/data/LAION-{DATASET_ENTITY_COUNT}/\"\n",
    "\n",
    "METADATA_PATH = DATASET_BASE_PATH + \"metadata.parquet\"\n",
    "IMAGES_PATH = DATASET_BASE_PATH + \"images/\"\n",
    "\n",
    "vector_path = DATASET_BASE_PATH + \"vectors/\"\n",
    "\n",
    "assert os.path.exists(METADATA_PATH)\n",
    "assert os.path.exists(IMAGES_PATH)\n",
    "assert os.path.exists(vector_path)"
   ],
   "id": "287897751e0a6ac1",
   "outputs": [],
   "execution_count": null
  },
  {
   "metadata": {},
   "cell_type": "code",
   "source": [
    "df=pd.read_parquet(METADATA_PATH)\n",
    "df[60:]"
   ],
   "id": "b4761629eb442925",
   "outputs": [],
   "execution_count": null
  },
  {
   "metadata": {},
   "cell_type": "code",
   "source": [
    "id = 69\n",
    "df.iloc[id]"
   ],
   "id": "28ee2e6f838e42cc",
   "outputs": [],
   "execution_count": null
  },
  {
   "metadata": {},
   "cell_type": "code",
   "source": "id, df[\"TEXT\"][id], df[\"URL\"][id], df[\"index\"][id]",
   "id": "f0187f5c746b1cb5",
   "outputs": [],
   "execution_count": null
  },
  {
   "metadata": {},
   "cell_type": "code",
   "source": [
    "from IPython.display import display, Image\n",
    "def get_image(vector_id: int, images_path: str):\n",
    "    \"\"\"\n",
    "    Given a vector id and base images path (IMAGES_PATH), returns the image.\n",
    "    \"\"\"\n",
    "    shard = str(vector_id // 10000).zfill(5)\n",
    "    index = str(vector_id % 10000).zfill(4)\n",
    "    image_path = f\"{images_path}/{shard}/{shard}{index}.jpg\"\n",
    "    return Image(filename=image_path) \n",
    "display(get_image(id, IMAGES_PATH))"
   ],
   "id": "e3ac6a239ac233af",
   "outputs": [],
   "execution_count": null
  },
  {
   "metadata": {},
   "cell_type": "code",
   "source": [
    "# load vectors for id\n",
    "text_vector_path = vector_path+\"text_vectors\"\n",
    "image_vector_path = vector_path+\"image_vectors\"\n",
    "\n",
    "text_vectors = np.load(text_vector_path+\".npy\")\n",
    "image_vectors = np.load(image_vector_path+\".npy\")"
   ],
   "id": "c1bdeff2b98b7c42",
   "outputs": [],
   "execution_count": null
  },
  {
   "metadata": {},
   "cell_type": "code",
   "source": [
    "# dot it with itself\n",
    "np.dot(text_vectors[id], text_vectors[id])\n",
    "text_vectors[id]"
   ],
   "id": "1d81f80d790aeba7",
   "outputs": [],
   "execution_count": null
  },
  {
   "metadata": {},
   "cell_type": "code",
   "source": [
    "np.dot(image_vectors[id], image_vectors[id])\n",
    "image_vectors[id]"
   ],
   "id": "3bea84b5a91bcea3",
   "outputs": [],
   "execution_count": null
  },
  {
   "metadata": {},
   "cell_type": "code",
   "source": "",
   "id": "448e2eef90cdfce9",
   "outputs": [],
   "execution_count": null
  }
 ],
 "metadata": {
  "kernelspec": {
   "display_name": "Python 3",
   "language": "python",
   "name": "python3"
  },
  "language_info": {
   "codemirror_mode": {
    "name": "ipython",
    "version": 2
   },
   "file_extension": ".py",
   "mimetype": "text/x-python",
   "name": "python",
   "nbconvert_exporter": "python",
   "pygments_lexer": "ipython2",
   "version": "2.7.6"
  }
 },
 "nbformat": 4,
 "nbformat_minor": 5
}
