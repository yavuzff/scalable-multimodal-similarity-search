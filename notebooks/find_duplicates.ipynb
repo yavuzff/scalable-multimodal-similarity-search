{
 "cells": [
  {
   "cell_type": "code",
   "id": "initial_id",
   "metadata": {
    "collapsed": true,
    "ExecuteTime": {
     "end_time": "2025-01-26T17:13:17.404935Z",
     "start_time": "2025-01-26T17:13:17.004748Z"
    }
   },
   "source": [
    "\"\"\" \n",
    "identify placeholder images by: \n",
    "- Compute pairwise similarity between a subset of image embeddings - compute similarity between a vector and the 10k vectors after it\n",
    "- Those with >0.99 cosine similarity are deemed to be placeholder images. \n",
    "- This boundary was chosen using some experimentation and visual inspection of sample images.\n",
    "\"\"\"\n",
    "%load_ext autoreload\n",
    "%autoreload 2\n",
    "import numpy as np\n",
    "from tqdm import tqdm"
   ],
   "outputs": [],
   "execution_count": 2
  },
  {
   "metadata": {
    "ExecuteTime": {
     "end_time": "2025-01-26T17:13:17.990240Z",
     "start_time": "2025-01-26T17:13:17.969248Z"
    }
   },
   "cell_type": "code",
   "source": [
    "# specify dataset and paths to work on\n",
    "DATASET_ENTITY_COUNT = 1900000\n",
    "DATASET_BASE_PATH = f\"/Users/yavuz/data/LAION-{DATASET_ENTITY_COUNT}/\"\n",
    "\n",
    "METADATA_PATH = DATASET_BASE_PATH + \"metadata.parquet\"\n",
    "IMAGES_PATH = DATASET_BASE_PATH + \"images/\"\n",
    "\n",
    "vector_path = DATASET_BASE_PATH + \"vectors/\""
   ],
   "id": "f482c173210da59c",
   "outputs": [],
   "execution_count": 3
  },
  {
   "metadata": {
    "ExecuteTime": {
     "end_time": "2025-01-26T17:13:18.545715Z",
     "start_time": "2025-01-26T17:13:18.525394Z"
    }
   },
   "cell_type": "code",
   "source": "placeholder_images = np.load(vector_path+\"placeholder_images.npy\")",
   "id": "4e8be460032e9e02",
   "outputs": [],
   "execution_count": 4
  },
  {
   "metadata": {
    "ExecuteTime": {
     "end_time": "2025-01-26T17:13:22.765849Z",
     "start_time": "2025-01-26T17:13:18.997104Z"
    }
   },
   "cell_type": "code",
   "source": [
    "image_embeddings = np.load(vector_path + \"image_vectors.npy\")\n",
    "image_embeddings.shape"
   ],
   "id": "977b5473d8f80c57",
   "outputs": [
    {
     "data": {
      "text/plain": [
       "(1187524, 768)"
      ]
     },
     "execution_count": 5,
     "metadata": {},
     "output_type": "execute_result"
    }
   ],
   "execution_count": 5
  },
  {
   "metadata": {
    "ExecuteTime": {
     "end_time": "2025-01-26T17:13:39.052646Z",
     "start_time": "2025-01-26T17:13:22.846765Z"
    }
   },
   "cell_type": "code",
   "source": [
    "# Normalize embeddings and compute similarity matrix\n",
    "normalised_image_embeddings = image_embeddings / np.linalg.norm(image_embeddings, axis=1, keepdims=True)"
   ],
   "id": "5c26444452073417",
   "outputs": [],
   "execution_count": 6
  },
  {
   "metadata": {
    "ExecuteTime": {
     "end_time": "2025-01-26T17:13:39.104270Z",
     "start_time": "2025-01-26T17:13:39.082853Z"
    }
   },
   "cell_type": "code",
   "source": "normalised_image_embeddings.shape",
   "id": "80304405eb5e78cf",
   "outputs": [
    {
     "data": {
      "text/plain": [
       "(1187524, 768)"
      ]
     },
     "execution_count": 7,
     "metadata": {},
     "output_type": "execute_result"
    }
   ],
   "execution_count": 7
  },
  {
   "metadata": {
    "ExecuteTime": {
     "end_time": "2025-01-26T17:18:59.226321Z",
     "start_time": "2025-01-26T17:13:46.356736Z"
    }
   },
   "cell_type": "code",
   "source": [
    "near_duplicates = set()\n",
    "for i in tqdm(range(0, len(normalised_image_embeddings))):\n",
    "    for j in range(i+1, min(len(normalised_image_embeddings), i+10000)):\n",
    "        # 0.99 has been chosen the boundary after some experimentation, by viewing sample images\n",
    "        score = np.dot(normalised_image_embeddings[i], normalised_image_embeddings[j])\n",
    "        if score > 0.99:\n",
    "            #near_duplicates.append((i, j, score))\n",
    "            near_duplicates.add(i)\n",
    "            near_duplicates.add(j)\n",
    "    \n",
    "    # save every 50k iterations\n",
    "    if i % 50000 == 0:\n",
    "        np.save(vector_path+\"placeholder_images10kWindow\", np.array(list(near_duplicates)))\n",
    "\n",
    "#near_duplicates.sort(key=lambda x: x[2]) # sort to view sample least similar items\n",
    "len(near_duplicates)"
   ],
   "id": "e853eff40836b007",
   "outputs": [
    {
     "name": "stderr",
     "output_type": "stream",
     "text": [
      "100%|██████████| 10000/10000 [05:12<00:00, 31.98it/s]\n"
     ]
    },
    {
     "data": {
      "text/plain": [
       "127"
      ]
     },
     "execution_count": 8,
     "metadata": {},
     "output_type": "execute_result"
    }
   ],
   "execution_count": 8
  },
  {
   "metadata": {
    "ExecuteTime": {
     "end_time": "2025-01-26T17:18:59.533033Z",
     "start_time": "2025-01-26T17:18:59.476271Z"
    }
   },
   "cell_type": "code",
   "source": "np.save(vector_path+\"placeholder_images10kWindowFor1M\", np.array(list(near_duplicates)))",
   "id": "9511dd31dc77998a",
   "outputs": [],
   "execution_count": 9
  },
  {
   "metadata": {
    "ExecuteTime": {
     "end_time": "2025-01-26T17:29:28.555435Z",
     "start_time": "2025-01-26T17:29:28.533918Z"
    }
   },
   "cell_type": "code",
   "source": [
    "placeholder_images = np.load(vector_path+\"placeholder_images10kWindowFor1M.npy\")\n",
    "# there are 164 images identified in 20k dataset\n",
    "# there are 5-10 images which are not placeholder, but are identified because exact duplicates exist in the dataset\n",
    "placeholder_images.shape"
   ],
   "id": "83111b38a3051cc3",
   "outputs": [
    {
     "data": {
      "text/plain": [
       "(127,)"
      ]
     },
     "execution_count": 22,
     "metadata": {},
     "output_type": "execute_result"
    }
   ],
   "execution_count": 22
  },
  {
   "metadata": {
    "ExecuteTime": {
     "end_time": "2025-01-26T17:29:28.863922Z",
     "start_time": "2025-01-26T17:29:28.844418Z"
    }
   },
   "cell_type": "code",
   "source": "placeholder_images",
   "id": "d5f24ee71abefd51",
   "outputs": [
    {
     "data": {
      "text/plain": [
       "array([1178627, 1181702, 1183247, 1179669, 1184790, 1182745, 1183261,\n",
       "       1183262, 1184287, 1178146, 1182755, 1182252, 1181752, 1180729,\n",
       "       1180731, 1186363, 1183810, 1184329, 1181777, 1179732, 1182292,\n",
       "       1186901, 1180759, 1180763, 1183835, 1177695, 1184363, 1183851,\n",
       "       1186923, 1182836, 1179255, 1177723, 1179264, 1180289, 1183362,\n",
       "       1178755, 1183872, 1179782, 1187468, 1186959, 1181840, 1183897,\n",
       "       1186476, 1185453, 1177773, 1183922, 1179835, 1182397, 1187521,\n",
       "       1177795, 1180357, 1184965, 1180870, 1180361, 1179339, 1183446,\n",
       "       1181919, 1184479, 1184492, 1178349, 1180915, 1182452, 1186049,\n",
       "       1187074, 1185039, 1184017, 1184030, 1180960, 1186085, 1184550,\n",
       "       1187111, 1183531, 1183023, 1182515, 1180980, 1182518, 1178423,\n",
       "       1186103, 1182030, 1187160, 1186152, 1180530, 1178483, 1185657,\n",
       "       1185147, 1184125, 1178496, 1181576, 1186703, 1185681, 1184145,\n",
       "       1183125, 1180567, 1180570, 1179035, 1186205, 1178030, 1184687,\n",
       "       1179055, 1184691, 1183668, 1185204, 1179588, 1186756, 1182664,\n",
       "       1177545, 1179595, 1186255, 1178065, 1186769, 1187284, 1184725,\n",
       "       1181655, 1185239, 1181661, 1180126, 1181664, 1180640, 1178595,\n",
       "       1180645, 1183207, 1185771, 1180652, 1184747, 1179124, 1185270,\n",
       "       1181695])"
      ]
     },
     "execution_count": 23,
     "metadata": {},
     "output_type": "execute_result"
    }
   ],
   "execution_count": 23
  },
  {
   "metadata": {
    "ExecuteTime": {
     "end_time": "2025-01-26T17:29:30.629152Z",
     "start_time": "2025-01-26T17:29:30.610405Z"
    }
   },
   "cell_type": "code",
   "source": [
    "from IPython.display import display, Image\n",
    "def get_image(vector_id: int, images_path: str):\n",
    "    \"\"\"\n",
    "    Given a vector id and base images path (IMAGES_PATH), returns the image.\n",
    "    \"\"\"\n",
    "    shard = str(vector_id // 10000).zfill(5)\n",
    "    index = str(vector_id % 10000).zfill(4)\n",
    "    image_path = f\"{images_path}/{shard}/{shard}{index}.jpg\"\n",
    "    return Image(filename=image_path) "
   ],
   "id": "838538e125b11dbc",
   "outputs": [],
   "execution_count": 24
  },
  {
   "metadata": {
    "ExecuteTime": {
     "end_time": "2025-01-26T17:30:56.783546Z",
     "start_time": "2025-01-26T17:30:56.768056Z"
    }
   },
   "cell_type": "code",
   "source": [
    "# print sample placeholder images\n",
    "LIMIT = 10\n",
    "for i in placeholder_images[len(placeholder_images) - LIMIT:]:\n",
    "    print(i)\n",
    "    display(get_image(i, IMAGES_PATH))"
   ],
   "id": "57b6d86096660c90",
   "outputs": [],
   "execution_count": 29
  }
 ],
 "metadata": {
  "kernelspec": {
   "display_name": "Python 3",
   "language": "python",
   "name": "python3"
  },
  "language_info": {
   "codemirror_mode": {
    "name": "ipython",
    "version": 2
   },
   "file_extension": ".py",
   "mimetype": "text/x-python",
   "name": "python",
   "nbconvert_exporter": "python",
   "pygments_lexer": "ipython2",
   "version": "2.7.6"
  }
 },
 "nbformat": 4,
 "nbformat_minor": 5
}
