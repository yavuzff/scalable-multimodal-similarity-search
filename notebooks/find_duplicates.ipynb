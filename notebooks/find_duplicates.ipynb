{
 "cells": [
  {
   "cell_type": "code",
   "id": "initial_id",
   "metadata": {
    "collapsed": true
   },
   "source": [
    "\"\"\" \n",
    "identify placeholder images by: \n",
    "- Compute pairwise similarity between a subset of image embeddings - compute similarity between a vector and the 10k vectors after it\n",
    "- Those with >0.99 cosine similarity are deemed to be placeholder images. \n",
    "- This boundary was chosen using some experimentation and visual inspection of sample images.\n",
    "\"\"\"\n",
    "%load_ext autoreload\n",
    "%autoreload 2\n",
    "import numpy as np\n",
    "from tqdm import tqdm"
   ],
   "outputs": [],
   "execution_count": null
  },
  {
   "metadata": {},
   "cell_type": "code",
   "source": [
    "# specify dataset and paths to work on\n",
    "DATASET_ENTITY_COUNT = 150 #150 #1900000\n",
    "DATASET_BASE_PATH = f\"/Users/yavuz/data/LAION-{DATASET_ENTITY_COUNT}/\"\n",
    "\n",
    "METADATA_PATH = DATASET_BASE_PATH + \"metadata.parquet\"\n",
    "IMAGES_PATH = DATASET_BASE_PATH + \"images/\"\n",
    "\n",
    "vector_path = DATASET_BASE_PATH + \"vectors/\""
   ],
   "id": "f482c173210da59c",
   "outputs": [],
   "execution_count": null
  },
  {
   "metadata": {},
   "cell_type": "code",
   "source": "placeholder_images = np.load(vector_path+\"placeholder_images.npy\")",
   "id": "4e8be460032e9e02",
   "outputs": [],
   "execution_count": null
  },
  {
   "metadata": {},
   "cell_type": "code",
   "source": [
    "image_embeddings = np.load(vector_path + \"image_vectors.npy\")\n",
    "image_embeddings.shape"
   ],
   "id": "65ccec70721ceb2a",
   "outputs": [],
   "execution_count": null
  },
  {
   "metadata": {},
   "cell_type": "code",
   "source": [
    "# Normalize embeddings and compute similarity matrix\n",
    "normalised_image_embeddings = image_embeddings / np.linalg.norm(image_embeddings, axis=1, keepdims=True)"
   ],
   "id": "5c26444452073417",
   "outputs": [],
   "execution_count": null
  },
  {
   "metadata": {},
   "cell_type": "code",
   "source": "normalised_image_embeddings.shape",
   "id": "80304405eb5e78cf",
   "outputs": [],
   "execution_count": null
  },
  {
   "metadata": {},
   "cell_type": "code",
   "source": [
    "near_duplicates = set()\n",
    "threshold = 0.99\n",
    "window_size = 100000\n",
    "for i in tqdm(range(0, len(normalised_image_embeddings))):\n",
    "    start = i + 1\n",
    "    end = min(i + window_size, len(normalised_image_embeddings))\n",
    "    if start < end:\n",
    "        scores = np.dot(normalised_image_embeddings[i], normalised_image_embeddings[start:end].T)\n",
    "\n",
    "        near_duplicate_indices = np.where(scores > threshold)[0] + start\n",
    "        if len(near_duplicate_indices) > 0:\n",
    "            near_duplicates.update([i] + list(near_duplicate_indices))\n",
    "\n",
    "    # Save checkpoint every 50k iterations\n",
    "    if i % 50000 == 0:\n",
    "        np.save(vector_path+\"placeholder_images\"+str(window_size)+\"Window_checkpoint\", np.array(list(near_duplicates)))\n",
    "len(near_duplicates)"
   ],
   "id": "e853eff40836b007",
   "outputs": [],
   "execution_count": null
  },
  {
   "metadata": {},
   "cell_type": "code",
   "source": "np.save(vector_path+\"placeholder_images\"+str(window_size)+\"Window\", np.array(list(near_duplicates)))",
   "id": "9511dd31dc77998a",
   "outputs": [],
   "execution_count": null
  },
  {
   "metadata": {},
   "cell_type": "code",
   "source": [
    "# there are 164 images identified in 20k dataset\n",
    "# there are 5-10 images which are not placeholder, but are identified because exact duplicates exist in the dataset\n",
    "placeholder_images.shape"
   ],
   "id": "83111b38a3051cc3",
   "outputs": [],
   "execution_count": null
  },
  {
   "metadata": {},
   "cell_type": "code",
   "source": "placeholder_images",
   "id": "d5f24ee71abefd51",
   "outputs": [],
   "execution_count": null
  },
  {
   "metadata": {},
   "cell_type": "code",
   "source": [
    "from IPython.display import display, Image\n",
    "def get_image(vector_id: int, images_path: str):\n",
    "    \"\"\"\n",
    "    Given a vector id and base images path (IMAGES_PATH), returns the image.\n",
    "    \"\"\"\n",
    "    shard = str(vector_id // 10000).zfill(5)\n",
    "    index = str(vector_id % 10000).zfill(4)\n",
    "    image_path = f\"{images_path}/{shard}/{shard}{index}.jpg\"\n",
    "    return Image(filename=image_path) "
   ],
   "id": "838538e125b11dbc",
   "outputs": [],
   "execution_count": null
  },
  {
   "metadata": {},
   "cell_type": "code",
   "source": [
    "# print sample placeholder images\n",
    "LIMIT = 10\n",
    "for i in placeholder_images[len(placeholder_images) - LIMIT:]:\n",
    "    print(i)\n",
    "    display(get_image(i, IMAGES_PATH))"
   ],
   "id": "57b6d86096660c90",
   "outputs": [],
   "execution_count": null
  },
  {
   "metadata": {},
   "cell_type": "code",
   "source": "",
   "id": "7c0c3727481b5ed6",
   "outputs": [],
   "execution_count": null
  }
 ],
 "metadata": {
  "kernelspec": {
   "display_name": "Python 3",
   "language": "python",
   "name": "python3"
  },
  "language_info": {
   "codemirror_mode": {
    "name": "ipython",
    "version": 2
   },
   "file_extension": ".py",
   "mimetype": "text/x-python",
   "name": "python",
   "nbconvert_exporter": "python",
   "pygments_lexer": "ipython2",
   "version": "2.7.6"
  }
 },
 "nbformat": 4,
 "nbformat_minor": 5
}
