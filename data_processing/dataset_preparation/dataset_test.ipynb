{
 "cells": [
  {
   "cell_type": "code",
   "id": "initial_id",
   "metadata": {
    "collapsed": true,
    "ExecuteTime": {
     "end_time": "2024-11-01T18:57:57.743795Z",
     "start_time": "2024-11-01T18:57:57.737843Z"
    }
   },
   "source": [
    "\"\"\"\n",
    "Check that the prepared dataset=(metadata parquet, images) is consistent.\n",
    "\"\"\""
   ],
   "outputs": [],
   "execution_count": 119
  },
  {
   "metadata": {},
   "cell_type": "code",
   "outputs": [],
   "execution_count": null,
   "source": [
    "import pandas as pd\n",
    "import os\n",
    "import json"
   ],
   "id": "6006b6df6814eb31"
  },
  {
   "metadata": {
    "ExecuteTime": {
     "end_time": "2024-11-01T18:57:58.110264Z",
     "start_time": "2024-11-01T18:57:58.106259Z"
    }
   },
   "cell_type": "code",
   "source": [
    "DATASET_ENTITY_COUNT = 20000\n",
    "\n",
    "PREP_DATASET_PATH = f\"/Users/yavuz/data/LAION-{DATASET_ENTITY_COUNT}/\"\n",
    "METADATA_PATH = PREP_DATASET_PATH + \"metadata.parquet\"\n",
    "IMAGES_PATH = PREP_DATASET_PATH + \"images\""
   ],
   "id": "605969dc781df373",
   "outputs": [],
   "execution_count": 120
  },
  {
   "metadata": {
    "ExecuteTime": {
     "end_time": "2024-11-01T18:57:59.082355Z",
     "start_time": "2024-11-01T18:57:59.078577Z"
    }
   },
   "cell_type": "code",
   "source": [
    "def read_saved_data(path: str) -> pd.DataFrame:\n",
    "    \"\"\"\n",
    "    Return a dataset saved previously.\n",
    "    \"\"\"\n",
    "    df = pd.read_parquet(path)\n",
    "    print(f\"Read {len(df)} entries from {path}.\")\n",
    "    return df"
   ],
   "id": "b4b61693f8140f43",
   "outputs": [],
   "execution_count": 121
  },
  {
   "metadata": {
    "ExecuteTime": {
     "end_time": "2024-11-01T18:57:59.623785Z",
     "start_time": "2024-11-01T18:57:59.590486Z"
    }
   },
   "cell_type": "code",
   "source": [
    "data = read_saved_data(METADATA_PATH)\n",
    "data"
   ],
   "id": "195209b2144b56bf",
   "outputs": [
    {
     "name": "stdout",
     "output_type": "stream",
     "text": [
      "Read 12788 entries from /Users/yavuz/data/LAION-20000/metadata.parquet.\n"
     ]
    },
    {
     "data": {
      "text/plain": [
       "       index     SAMPLE_ID                                                URL  \\\n",
       "0          1  1.060015e+12  https://thumbs.ebaystatic.com/images/g/DYEAAOS...   \n",
       "1          2  3.372497e+12  https://farm1.staticflickr.com/784/40182677504...   \n",
       "2          3  3.820200e+11  https://t2.ftcdn.net/jpg/00/58/35/35/240_F_583...   \n",
       "3          5  2.179119e+12  https://i.pinimg.com/236x/03/38/05/0338055833e...   \n",
       "4          7  1.727450e+11  http://cdn.pastemagazine.com/www/articles/2011...   \n",
       "...      ...           ...                                                ...   \n",
       "12783  19994  4.063788e+12  https://publicauthordotcom.files.wordpress.com...   \n",
       "12784  19995  1.530866e+12  https://www.digsdigs.com/photos/sweet-shabby-c...   \n",
       "12785  19997  4.247173e+12  https://goalstudio.com/web/product/medium/2020...   \n",
       "12786  19998  1.505120e+11  https://thumbs.dreamstime.com/m/clown-toy-colo...   \n",
       "12787  19999  3.412030e+12  https://cdn11.bigcommerce.com/s-f90qkbm3hv/ima...   \n",
       "\n",
       "                                                    TEXT  HEIGHT   WIDTH  \\\n",
       "0      Silverline Air Framing Nailer 90mm 10 - 12 Gau...   225.0   225.0   \n",
       "1                                        Anhui Mountains   800.0   514.0   \n",
       "2                             Acute pain in a woman knee   257.0   240.0   \n",
       "3             Essentials Barnwood 70-inch TV Media Stand   236.0   236.0   \n",
       "4      Ben Affleck Could Be Latest Addition To <em>Th...   320.0   320.0   \n",
       "...                                                  ...     ...     ...   \n",
       "12783                        Letters over the Wall cover   205.0   300.0   \n",
       "12784  Http Www Digsdigs Com 33 Sweet Shabby Chic Bed...   480.0   486.0   \n",
       "12785                      TOTTENHAM 940 BALL CAP - GOLD  1100.0  1460.0   \n",
       "12786  Clown toy color vector illustration Royalty Fr...    92.0   130.0   \n",
       "12787                       Rivendale 800XL AirBeam tent   500.0   229.0   \n",
       "\n",
       "      LICENSE      NSFW  similarity  \n",
       "0           ?  UNLIKELY    0.312485  \n",
       "1           ?  UNLIKELY    0.316512  \n",
       "2           ?  UNLIKELY    0.344278  \n",
       "3           ?  UNLIKELY    0.332799  \n",
       "4           ?  UNLIKELY    0.353303  \n",
       "...       ...       ...         ...  \n",
       "12783       ?  UNLIKELY    0.303382  \n",
       "12784       ?  UNLIKELY    0.352294  \n",
       "12785       ?  UNLIKELY    0.388634  \n",
       "12786       ?  UNLIKELY    0.349995  \n",
       "12787       ?  UNLIKELY    0.335180  \n",
       "\n",
       "[12788 rows x 9 columns]"
      ],
      "text/html": [
       "<div>\n",
       "<style scoped>\n",
       "    .dataframe tbody tr th:only-of-type {\n",
       "        vertical-align: middle;\n",
       "    }\n",
       "\n",
       "    .dataframe tbody tr th {\n",
       "        vertical-align: top;\n",
       "    }\n",
       "\n",
       "    .dataframe thead th {\n",
       "        text-align: right;\n",
       "    }\n",
       "</style>\n",
       "<table border=\"1\" class=\"dataframe\">\n",
       "  <thead>\n",
       "    <tr style=\"text-align: right;\">\n",
       "      <th></th>\n",
       "      <th>index</th>\n",
       "      <th>SAMPLE_ID</th>\n",
       "      <th>URL</th>\n",
       "      <th>TEXT</th>\n",
       "      <th>HEIGHT</th>\n",
       "      <th>WIDTH</th>\n",
       "      <th>LICENSE</th>\n",
       "      <th>NSFW</th>\n",
       "      <th>similarity</th>\n",
       "    </tr>\n",
       "  </thead>\n",
       "  <tbody>\n",
       "    <tr>\n",
       "      <th>0</th>\n",
       "      <td>1</td>\n",
       "      <td>1.060015e+12</td>\n",
       "      <td>https://thumbs.ebaystatic.com/images/g/DYEAAOS...</td>\n",
       "      <td>Silverline Air Framing Nailer 90mm 10 - 12 Gau...</td>\n",
       "      <td>225.0</td>\n",
       "      <td>225.0</td>\n",
       "      <td>?</td>\n",
       "      <td>UNLIKELY</td>\n",
       "      <td>0.312485</td>\n",
       "    </tr>\n",
       "    <tr>\n",
       "      <th>1</th>\n",
       "      <td>2</td>\n",
       "      <td>3.372497e+12</td>\n",
       "      <td>https://farm1.staticflickr.com/784/40182677504...</td>\n",
       "      <td>Anhui Mountains</td>\n",
       "      <td>800.0</td>\n",
       "      <td>514.0</td>\n",
       "      <td>?</td>\n",
       "      <td>UNLIKELY</td>\n",
       "      <td>0.316512</td>\n",
       "    </tr>\n",
       "    <tr>\n",
       "      <th>2</th>\n",
       "      <td>3</td>\n",
       "      <td>3.820200e+11</td>\n",
       "      <td>https://t2.ftcdn.net/jpg/00/58/35/35/240_F_583...</td>\n",
       "      <td>Acute pain in a woman knee</td>\n",
       "      <td>257.0</td>\n",
       "      <td>240.0</td>\n",
       "      <td>?</td>\n",
       "      <td>UNLIKELY</td>\n",
       "      <td>0.344278</td>\n",
       "    </tr>\n",
       "    <tr>\n",
       "      <th>3</th>\n",
       "      <td>5</td>\n",
       "      <td>2.179119e+12</td>\n",
       "      <td>https://i.pinimg.com/236x/03/38/05/0338055833e...</td>\n",
       "      <td>Essentials Barnwood 70-inch TV Media Stand</td>\n",
       "      <td>236.0</td>\n",
       "      <td>236.0</td>\n",
       "      <td>?</td>\n",
       "      <td>UNLIKELY</td>\n",
       "      <td>0.332799</td>\n",
       "    </tr>\n",
       "    <tr>\n",
       "      <th>4</th>\n",
       "      <td>7</td>\n",
       "      <td>1.727450e+11</td>\n",
       "      <td>http://cdn.pastemagazine.com/www/articles/2011...</td>\n",
       "      <td>Ben Affleck Could Be Latest Addition To &lt;em&gt;Th...</td>\n",
       "      <td>320.0</td>\n",
       "      <td>320.0</td>\n",
       "      <td>?</td>\n",
       "      <td>UNLIKELY</td>\n",
       "      <td>0.353303</td>\n",
       "    </tr>\n",
       "    <tr>\n",
       "      <th>...</th>\n",
       "      <td>...</td>\n",
       "      <td>...</td>\n",
       "      <td>...</td>\n",
       "      <td>...</td>\n",
       "      <td>...</td>\n",
       "      <td>...</td>\n",
       "      <td>...</td>\n",
       "      <td>...</td>\n",
       "      <td>...</td>\n",
       "    </tr>\n",
       "    <tr>\n",
       "      <th>12783</th>\n",
       "      <td>19994</td>\n",
       "      <td>4.063788e+12</td>\n",
       "      <td>https://publicauthordotcom.files.wordpress.com...</td>\n",
       "      <td>Letters over the Wall cover</td>\n",
       "      <td>205.0</td>\n",
       "      <td>300.0</td>\n",
       "      <td>?</td>\n",
       "      <td>UNLIKELY</td>\n",
       "      <td>0.303382</td>\n",
       "    </tr>\n",
       "    <tr>\n",
       "      <th>12784</th>\n",
       "      <td>19995</td>\n",
       "      <td>1.530866e+12</td>\n",
       "      <td>https://www.digsdigs.com/photos/sweet-shabby-c...</td>\n",
       "      <td>Http Www Digsdigs Com 33 Sweet Shabby Chic Bed...</td>\n",
       "      <td>480.0</td>\n",
       "      <td>486.0</td>\n",
       "      <td>?</td>\n",
       "      <td>UNLIKELY</td>\n",
       "      <td>0.352294</td>\n",
       "    </tr>\n",
       "    <tr>\n",
       "      <th>12785</th>\n",
       "      <td>19997</td>\n",
       "      <td>4.247173e+12</td>\n",
       "      <td>https://goalstudio.com/web/product/medium/2020...</td>\n",
       "      <td>TOTTENHAM 940 BALL CAP - GOLD</td>\n",
       "      <td>1100.0</td>\n",
       "      <td>1460.0</td>\n",
       "      <td>?</td>\n",
       "      <td>UNLIKELY</td>\n",
       "      <td>0.388634</td>\n",
       "    </tr>\n",
       "    <tr>\n",
       "      <th>12786</th>\n",
       "      <td>19998</td>\n",
       "      <td>1.505120e+11</td>\n",
       "      <td>https://thumbs.dreamstime.com/m/clown-toy-colo...</td>\n",
       "      <td>Clown toy color vector illustration Royalty Fr...</td>\n",
       "      <td>92.0</td>\n",
       "      <td>130.0</td>\n",
       "      <td>?</td>\n",
       "      <td>UNLIKELY</td>\n",
       "      <td>0.349995</td>\n",
       "    </tr>\n",
       "    <tr>\n",
       "      <th>12787</th>\n",
       "      <td>19999</td>\n",
       "      <td>3.412030e+12</td>\n",
       "      <td>https://cdn11.bigcommerce.com/s-f90qkbm3hv/ima...</td>\n",
       "      <td>Rivendale 800XL AirBeam tent</td>\n",
       "      <td>500.0</td>\n",
       "      <td>229.0</td>\n",
       "      <td>?</td>\n",
       "      <td>UNLIKELY</td>\n",
       "      <td>0.335180</td>\n",
       "    </tr>\n",
       "  </tbody>\n",
       "</table>\n",
       "<p>12788 rows × 9 columns</p>\n",
       "</div>"
      ]
     },
     "execution_count": 122,
     "metadata": {},
     "output_type": "execute_result"
    }
   ],
   "execution_count": 122
  },
  {
   "metadata": {
    "ExecuteTime": {
     "end_time": "2024-11-01T18:58:00.309671Z",
     "start_time": "2024-11-01T18:58:00.304058Z"
    }
   },
   "cell_type": "code",
   "source": [
    "def verify_images(image_path: str, data: pd.DataFrame) -> bool:\n",
    "    \"\"\"\n",
    "    Verify that the images at the image_path is consistent with the data frame.\n",
    "    \"\"\"\n",
    "    # iterate over the URLS of the data frame\n",
    "    for i, row in data.iterrows():\n",
    "        shard = str(i // 10000).zfill(5)\n",
    "        index = str(i % 10000).zfill(4)\n",
    "        \n",
    "        #check if image exists\n",
    "        image_file = f\"{image_path}/{shard}/{shard}{index}.jpg\"\n",
    "        if not os.path.exists(image_file):\n",
    "            print(f\"Image {image_file} does not exist for this row: {index, row}\")\n",
    "            return False\n",
    "        \n",
    "        #check if json exists\n",
    "        json_file = f\"{image_path}/{shard}/{shard}{index}.json\"\n",
    "        if not os.path.exists(json_file):\n",
    "            print(f\"Json {json_file} does not exist for this row: {index, row}\")\n",
    "            return False\n",
    "\n",
    "        \n",
    "        #compare the data URL with the json URL\n",
    "        if row[\"URL\"] != json.load(open(json_file))[\"url\"]:\n",
    "            print(f\"Error: URL does not match for this index, row: {index, row}\")\n",
    "            print(\"Image file: \", image_file)\n",
    "            print(\"Json file: \", image_file)\n",
    "            return False\n",
    "\n",
    "    print(\"All images and json files are verified.\")  \n",
    "    return True"
   ],
   "id": "e870a8fc0b491f56",
   "outputs": [],
   "execution_count": 123
  },
  {
   "metadata": {
    "ExecuteTime": {
     "end_time": "2024-11-01T18:58:02.618602Z",
     "start_time": "2024-11-01T18:58:00.838739Z"
    }
   },
   "cell_type": "code",
   "source": "verify_images(IMAGES_PATH, data)",
   "id": "12c12a189ca4e3ea",
   "outputs": [
    {
     "name": "stdout",
     "output_type": "stream",
     "text": [
      "All images and json files are verified.\n"
     ]
    },
    {
     "data": {
      "text/plain": [
       "True"
      ]
     },
     "execution_count": 124,
     "metadata": {},
     "output_type": "execute_result"
    }
   ],
   "execution_count": 124
  },
  {
   "metadata": {},
   "cell_type": "code",
   "outputs": [],
   "execution_count": null,
   "source": "",
   "id": "508fa4c19b0e91cd"
  }
 ],
 "metadata": {
  "kernelspec": {
   "display_name": "Python 3",
   "language": "python",
   "name": "python3"
  },
  "language_info": {
   "codemirror_mode": {
    "name": "ipython",
    "version": 2
   },
   "file_extension": ".py",
   "mimetype": "text/x-python",
   "name": "python",
   "nbconvert_exporter": "python",
   "pygments_lexer": "ipython2",
   "version": "2.7.6"
  }
 },
 "nbformat": 4,
 "nbformat_minor": 5
}
