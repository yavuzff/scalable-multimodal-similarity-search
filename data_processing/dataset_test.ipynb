{
 "cells": [
  {
   "metadata": {},
   "cell_type": "code",
   "source": [
    "\"\"\"\n",
    "Check that the prepared dataset=(metadata parquet, images) is consistent.\n",
    "\"\"\"\n",
    "import pandas as pd\n",
    "import os\n",
    "import json"
   ],
   "id": "6006b6df6814eb31",
   "outputs": [],
   "execution_count": null
  },
  {
   "metadata": {},
   "cell_type": "code",
   "source": [
    "DATASET_ENTITY_COUNT = 500\n",
    "\n",
    "PREP_DATASET_PATH = f\"/Users/yavuz/data/LAION-{DATASET_ENTITY_COUNT}/\"\n",
    "METADATA_PATH = PREP_DATASET_PATH + \"metadata.parquet\"\n",
    "IMAGES_PATH = PREP_DATASET_PATH + \"images\""
   ],
   "id": "605969dc781df373",
   "outputs": [],
   "execution_count": null
  },
  {
   "metadata": {},
   "cell_type": "code",
   "source": [
    "def read_saved_data(path: str) -> pd.DataFrame:\n",
    "    \"\"\"\n",
    "    Return a dataset saved previously.\n",
    "    \"\"\"\n",
    "    df = pd.read_parquet(path)\n",
    "    print(f\"Read {len(df)} entries from {path}.\")\n",
    "    return df"
   ],
   "id": "b4b61693f8140f43",
   "outputs": [],
   "execution_count": null
  },
  {
   "metadata": {},
   "cell_type": "code",
   "source": [
    "data = read_saved_data(METADATA_PATH)\n",
    "data"
   ],
   "id": "195209b2144b56bf",
   "outputs": [],
   "execution_count": null
  },
  {
   "metadata": {},
   "cell_type": "code",
   "source": [
    "def verify_images(image_path: str, data: pd.DataFrame) -> bool:\n",
    "    \"\"\"\n",
    "    Verify that the images at the image_path is consistent with the data frame.\n",
    "    \"\"\"\n",
    "    # iterate over the URLS of the data frame\n",
    "    for i, row in data.iterrows():\n",
    "        shard = str(i // 10000).zfill(5)\n",
    "        index = str(i % 10000).zfill(4)\n",
    "        \n",
    "        #check if image exists\n",
    "        image_file = f\"{image_path}/{shard}/{shard}{index}.jpg\"\n",
    "        if not os.path.exists(image_file):\n",
    "            print(f\"Image {image_file} does not exist for this row: {index, row}\")\n",
    "            return False\n",
    "        \n",
    "        #check if json exists\n",
    "        json_file = f\"{image_path}/{shard}/{shard}{index}.json\"\n",
    "        if not os.path.exists(json_file):\n",
    "            print(f\"Json {json_file} does not exist for this row: {index, row}\")\n",
    "            return False\n",
    "\n",
    "        \n",
    "        #compare the data URL with the json URL\n",
    "        if row[\"URL\"] != json.load(open(json_file))[\"url\"]:\n",
    "            print(f\"Error: URL does not match for this index, row: {index, row}\")\n",
    "            print(\"Image file: \", image_file)\n",
    "            print(\"Json file: \", image_file)\n",
    "            return False\n",
    "\n",
    "    print(\"All images and json files are verified.\")  \n",
    "    return True"
   ],
   "id": "e870a8fc0b491f56",
   "outputs": [],
   "execution_count": null
  },
  {
   "metadata": {},
   "cell_type": "code",
   "source": "verify_images(IMAGES_PATH, data)",
   "id": "12c12a189ca4e3ea",
   "outputs": [],
   "execution_count": null
  },
  {
   "metadata": {},
   "cell_type": "code",
   "source": "",
   "id": "db567e26450063c2",
   "outputs": [],
   "execution_count": null
  }
 ],
 "metadata": {
  "kernelspec": {
   "display_name": "Python 3",
   "language": "python",
   "name": "python3"
  },
  "language_info": {
   "codemirror_mode": {
    "name": "ipython",
    "version": 2
   },
   "file_extension": ".py",
   "mimetype": "text/x-python",
   "name": "python",
   "nbconvert_exporter": "python",
   "pygments_lexer": "ipython2",
   "version": "2.7.6"
  }
 },
 "nbformat": 4,
 "nbformat_minor": 5
}
