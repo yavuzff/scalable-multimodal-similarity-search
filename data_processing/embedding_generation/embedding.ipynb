{
 "cells": [
  {
   "cell_type": "code",
   "id": "initial_id",
   "metadata": {
    "collapsed": true,
    "ExecuteTime": {
     "end_time": "2024-11-02T00:52:51.908337Z",
     "start_time": "2024-11-02T00:52:51.343911Z"
    }
   },
   "source": [
    "%load_ext autoreload\n",
    "%autoreload 2\n",
    "import pandas as pd\n",
    "from src.embedding_generation.embedding_generator import *\n",
    "from src.common.logger import *"
   ],
   "outputs": [
    {
     "name": "stdout",
     "output_type": "stream",
     "text": [
      "The autoreload extension is already loaded. To reload it, use:\n",
      "  %reload_ext autoreload\n"
     ]
    }
   ],
   "execution_count": 23
  },
  {
   "metadata": {
    "ExecuteTime": {
     "end_time": "2024-11-02T00:28:55.826871Z",
     "start_time": "2024-11-02T00:28:55.795240Z"
    }
   },
   "cell_type": "code",
   "source": [
    "model = \"BAAI/bge-small-en-v1.5\"\n",
    "DATASET_ENTITY_COUNT = 20000\n",
    "DATASET_BASE_PATH = f\"/Users/yavuz/data/LAION-{DATASET_ENTITY_COUNT}/\"\n",
    "\n",
    "METADATA_PATH = DATASET_BASE_PATH + \"metadata.parquet\"\n",
    "vector_path = DATASET_BASE_PATH + \"vectors/\"\n",
    "\n",
    "if not os.path.exists(vector_path):\n",
    "    print(\"Creating path\", vector_path)\n",
    "    os.makedirs(vector_path)"
   ],
   "id": "b67d5cc4882c1216",
   "outputs": [
    {
     "name": "stdout",
     "output_type": "stream",
     "text": [
      "Creating path /Users/yavuz/data/LAION-20000/vectors/\n"
     ]
    }
   ],
   "execution_count": 2
  },
  {
   "metadata": {
    "ExecuteTime": {
     "end_time": "2024-11-02T00:28:56.175557Z",
     "start_time": "2024-11-02T00:28:56.057702Z"
    }
   },
   "cell_type": "code",
   "source": [
    "df = pd.read_parquet(METADATA_PATH)\n",
    "texts = list(df[\"TEXT\"])"
   ],
   "id": "5a8bbc70d126ff5f",
   "outputs": [],
   "execution_count": 3
  },
  {
   "metadata": {
    "ExecuteTime": {
     "end_time": "2024-11-02T00:30:34.318264Z",
     "start_time": "2024-11-02T00:28:56.191460Z"
    }
   },
   "cell_type": "code",
   "source": [
    "embedding_generator: EmbeddingGenerator = SentenceTransformerEmbeddingGenerator(model)\n",
    "embeddings = embedding_generator.generate_text_embeddings(texts, True)\n",
    "embeddings"
   ],
   "id": "ac188c262bd587ee",
   "outputs": [
    {
     "name": "stderr",
     "output_type": "stream",
     "text": [
      "Loading model BAAI/bge-small-en-v1.5...\n",
      "Use pytorch device_name: cpu\n",
      "Load pretrained SentenceTransformer: BAAI/bge-small-en-v1.5\n",
      "Loaded BAAI/bge-small-en-v1.5\n",
      "Generating 12788 embeddings...\n",
      "Batches: 100%|██████████| 400/400 [01:36<00:00,  4.16it/s]\n",
      "Done\n"
     ]
    },
    {
     "data": {
      "text/plain": [
       "array([[-0.05945515,  0.00921903,  0.00678941, ..., -0.04180149,\n",
       "         0.01217372,  0.10467765],\n",
       "       [-0.05608249, -0.02341046,  0.01316727, ..., -0.0419376 ,\n",
       "        -0.05870903,  0.04695863],\n",
       "       [-0.07713753, -0.02388584,  0.01643499, ..., -0.09213278,\n",
       "         0.01431111,  0.00712732],\n",
       "       ...,\n",
       "       [-0.00355132, -0.00170841,  0.00310336, ..., -0.00858116,\n",
       "        -0.01528757,  0.06652694],\n",
       "       [-0.0534179 , -0.04777579,  0.02079356, ...,  0.01117438,\n",
       "         0.0247307 , -0.00606936],\n",
       "       [ 0.03280438, -0.01097846,  0.02551886, ..., -0.04210055,\n",
       "        -0.01878911,  0.03959527]], dtype=float32)"
      ]
     },
     "execution_count": 4,
     "metadata": {},
     "output_type": "execute_result"
    }
   ],
   "execution_count": 4
  },
  {
   "metadata": {
    "ExecuteTime": {
     "end_time": "2024-11-02T00:30:34.528883Z",
     "start_time": "2024-11-02T00:30:34.384306Z"
    }
   },
   "cell_type": "code",
   "source": "np.save(vector_path+\"text_vectors\", embeddings)",
   "id": "e1915a7cd3b7847f",
   "outputs": [],
   "execution_count": 5
  },
  {
   "metadata": {
    "ExecuteTime": {
     "end_time": "2024-11-02T00:30:34.720665Z",
     "start_time": "2024-11-02T00:30:34.669953Z"
    }
   },
   "cell_type": "code",
   "source": [
    "#Test read\n",
    "read_embeddings = np.load(vector_path+\"text_vectors.npy\")\n",
    "read_embeddings"
   ],
   "id": "5d1e04fa537b197f",
   "outputs": [
    {
     "data": {
      "text/plain": [
       "array([[-0.05945515,  0.00921903,  0.00678941, ..., -0.04180149,\n",
       "         0.01217372,  0.10467765],\n",
       "       [-0.05608249, -0.02341046,  0.01316727, ..., -0.0419376 ,\n",
       "        -0.05870903,  0.04695863],\n",
       "       [-0.07713753, -0.02388584,  0.01643499, ..., -0.09213278,\n",
       "         0.01431111,  0.00712732],\n",
       "       ...,\n",
       "       [-0.00355132, -0.00170841,  0.00310336, ..., -0.00858116,\n",
       "        -0.01528757,  0.06652694],\n",
       "       [-0.0534179 , -0.04777579,  0.02079356, ...,  0.01117438,\n",
       "         0.0247307 , -0.00606936],\n",
       "       [ 0.03280438, -0.01097846,  0.02551886, ..., -0.04210055,\n",
       "        -0.01878911,  0.03959527]], dtype=float32)"
      ]
     },
     "execution_count": 6,
     "metadata": {},
     "output_type": "execute_result"
    }
   ],
   "execution_count": 6
  },
  {
   "metadata": {
    "ExecuteTime": {
     "end_time": "2024-11-02T00:52:56.322458Z",
     "start_time": "2024-11-02T00:52:56.266945Z"
    }
   },
   "cell_type": "code",
   "source": "openai_embedding_generator = OpenAIEmbeddingGenerator()",
   "id": "495fb6db0a5abfef",
   "outputs": [],
   "execution_count": 24
  },
  {
   "metadata": {
    "ExecuteTime": {
     "end_time": "2024-11-02T00:52:57.688433Z",
     "start_time": "2024-11-02T00:52:57.077106Z"
    }
   },
   "cell_type": "code",
   "source": [
    "sentences = [\"hello I am dude\", \"bye dude\"]\n",
    "embeds = openai_embedding_generator.generate_text_embeddings(sentences)"
   ],
   "id": "22fe084997dd47ee",
   "outputs": [
    {
     "name": "stderr",
     "output_type": "stream",
     "text": [
      "Generating 2 embeddings...\n",
      "HTTP Request: POST https://api.openai.com/v1/embeddings \"HTTP/1.1 200 OK\"\n",
      "Done\n"
     ]
    }
   ],
   "execution_count": 25
  },
  {
   "metadata": {
    "ExecuteTime": {
     "end_time": "2024-11-02T00:53:06.180338Z",
     "start_time": "2024-11-02T00:53:06.131520Z"
    }
   },
   "cell_type": "code",
   "source": "embeds",
   "id": "89cdffb31ee6d811",
   "outputs": [
    {
     "data": {
      "text/plain": [
       "array([[-0.00282051, -0.06312851, -0.03829524, ...,  0.00907664,\n",
       "        -0.02740838,  0.00776358],\n",
       "       [ 0.02286716, -0.0170915 , -0.07431518, ...,  0.01292707,\n",
       "        -0.01716587,  0.05785578]])"
      ]
     },
     "execution_count": 26,
     "metadata": {},
     "output_type": "execute_result"
    }
   ],
   "execution_count": 26
  },
  {
   "metadata": {
    "ExecuteTime": {
     "end_time": "2024-11-02T00:51:04.129670Z",
     "start_time": "2024-11-02T00:51:04.091980Z"
    }
   },
   "cell_type": "code",
   "source": "a = np.array(embeds.data[0].embedding)",
   "id": "ec359cd12f31642",
   "outputs": [],
   "execution_count": 18
  },
  {
   "metadata": {
    "ExecuteTime": {
     "end_time": "2024-11-02T00:51:04.286878Z",
     "start_time": "2024-11-02T00:51:04.245848Z"
    }
   },
   "cell_type": "code",
   "source": "b = np.array(embeds.data[1].embedding)",
   "id": "bfe3a3aaa6ff22bf",
   "outputs": [],
   "execution_count": 19
  },
  {
   "metadata": {
    "ExecuteTime": {
     "end_time": "2024-11-02T00:51:04.547040Z",
     "start_time": "2024-11-02T00:51:04.495725Z"
    }
   },
   "cell_type": "code",
   "source": "a@b",
   "id": "38ccbf61709114d2",
   "outputs": [
    {
     "data": {
      "text/plain": [
       "0.6433357118144377"
      ]
     },
     "execution_count": 20,
     "metadata": {},
     "output_type": "execute_result"
    }
   ],
   "execution_count": 20
  },
  {
   "metadata": {
    "ExecuteTime": {
     "end_time": "2024-11-02T00:52:20.798396Z",
     "start_time": "2024-11-02T00:52:20.759311Z"
    }
   },
   "cell_type": "code",
   "source": [
    "for i in embeds.data:\n",
    "    print(1)"
   ],
   "id": "eb9bf34b0eb47733",
   "outputs": [
    {
     "name": "stdout",
     "output_type": "stream",
     "text": [
      "1\n",
      "1\n"
     ]
    }
   ],
   "execution_count": 22
  },
  {
   "metadata": {},
   "cell_type": "code",
   "outputs": [],
   "execution_count": null,
   "source": "",
   "id": "565a34dbc72217d7"
  }
 ],
 "metadata": {
  "kernelspec": {
   "display_name": "Python 3",
   "language": "python",
   "name": "python3"
  },
  "language_info": {
   "codemirror_mode": {
    "name": "ipython",
    "version": 2
   },
   "file_extension": ".py",
   "mimetype": "text/x-python",
   "name": "python",
   "nbconvert_exporter": "python",
   "pygments_lexer": "ipython2",
   "version": "2.7.6"
  }
 },
 "nbformat": 4,
 "nbformat_minor": 5
}
