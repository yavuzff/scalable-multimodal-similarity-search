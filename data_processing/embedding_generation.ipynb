{
 "cells": [
  {
   "cell_type": "code",
   "id": "initial_id",
   "metadata": {
    "collapsed": true
   },
   "source": [
    "%load_ext autoreload\n",
    "%autoreload 2\n",
    "import pandas as pd\n",
    "from src.embedding_generation.embedding_generator import *\n",
    "from src.common.logger import *"
   ],
   "outputs": [],
   "execution_count": null
  },
  {
   "metadata": {},
   "cell_type": "code",
   "source": [
    "model = \"BAAI/bge-small-en-v1.5\"\n",
    "DATASET_ENTITY_COUNT = 20000\n",
    "DATASET_BASE_PATH = f\"/Users/yavuz/data/LAION-{DATASET_ENTITY_COUNT}/\"\n",
    "\n",
    "METADATA_PATH = DATASET_BASE_PATH + \"metadata.parquet\"\n",
    "vector_path = DATASET_BASE_PATH + \"vectors/\"\n",
    "\n",
    "if not os.path.exists(vector_path):\n",
    "    print(\"Creating path\", vector_path)\n",
    "    os.makedirs(vector_path)"
   ],
   "id": "b67d5cc4882c1216",
   "outputs": [],
   "execution_count": null
  },
  {
   "metadata": {},
   "cell_type": "code",
   "source": [
    "df = pd.read_parquet(METADATA_PATH)\n",
    "texts = list(df[\"TEXT\"])"
   ],
   "id": "5a8bbc70d126ff5f",
   "outputs": [],
   "execution_count": null
  },
  {
   "metadata": {},
   "cell_type": "code",
   "source": [
    "embedding_generator: EmbeddingGenerator = SentenceTransformerEmbeddingGenerator(model)\n",
    "embeddings = embedding_generator.generate_text_embeddings(texts, True)\n",
    "embeddings"
   ],
   "id": "ac188c262bd587ee",
   "outputs": [],
   "execution_count": null
  },
  {
   "metadata": {},
   "cell_type": "code",
   "source": "np.save(vector_path+\"text_vectors\", embeddings)",
   "id": "e1915a7cd3b7847f",
   "outputs": [],
   "execution_count": null
  },
  {
   "metadata": {},
   "cell_type": "code",
   "source": [
    "#Test read\n",
    "read_embeddings = np.load(vector_path+\"text_vectors.npy\")\n",
    "read_embeddings"
   ],
   "id": "5d1e04fa537b197f",
   "outputs": [],
   "execution_count": null
  }
 ],
 "metadata": {
  "kernelspec": {
   "display_name": "Python 3",
   "language": "python",
   "name": "python3"
  },
  "language_info": {
   "codemirror_mode": {
    "name": "ipython",
    "version": 2
   },
   "file_extension": ".py",
   "mimetype": "text/x-python",
   "name": "python",
   "nbconvert_exporter": "python",
   "pygments_lexer": "ipython2",
   "version": "2.7.6"
  }
 },
 "nbformat": 4,
 "nbformat_minor": 5
}
