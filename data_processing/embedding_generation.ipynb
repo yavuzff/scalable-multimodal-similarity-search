{
 "cells": [
  {
   "cell_type": "code",
   "id": "initial_id",
   "metadata": {
    "collapsed": true
   },
   "source": [
    "%load_ext autoreload\n",
    "%autoreload 2\n",
    "import pandas as pd\n",
    "import glob\n",
    "from src.embedding_generation.text_embeddings import *\n",
    "from src.common.logger import *"
   ],
   "outputs": [],
   "execution_count": null
  },
  {
   "cell_type": "code",
   "id": "b67d5cc4882c1216",
   "metadata": {},
   "source": [
    "#Specify dataset and paths to work on\n",
    "DATASET_ENTITY_COUNT = 100\n",
    "DATASET_BASE_PATH = f\"/Users/yavuz/data/LAION-{DATASET_ENTITY_COUNT}/\"\n",
    "\n",
    "METADATA_PATH = DATASET_BASE_PATH + \"metadata.parquet\"\n",
    "IMAGES_PATH = DATASET_BASE_PATH + \"images/\"\n",
    "\n",
    "vector_path = DATASET_BASE_PATH + \"vectors/\"\n",
    "if not os.path.exists(vector_path):\n",
    "    print(\"Creating path\", vector_path)\n",
    "    os.makedirs(vector_path)"
   ],
   "outputs": [],
   "execution_count": null
  },
  {
   "cell_type": "code",
   "id": "5a8bbc70d126ff5f",
   "metadata": {},
   "source": [
    "# Text Embedding Generation\n",
    "model = \"BAAI/bge-small-en-v1.5\"\n",
    "df = pd.read_parquet(METADATA_PATH)\n",
    "texts = list(df[\"TEXT\"])\n",
    "embedding_generator: TextEmbeddingGenerator = SentenceTransformerEmbeddingGenerator(model)\n",
    "embeddings = embedding_generator.generate_text_embeddings(texts, True)\n",
    "embeddings"
   ],
   "outputs": [],
   "execution_count": null
  },
  {
   "cell_type": "code",
   "id": "e1915a7cd3b7847f",
   "metadata": {},
   "source": [
    "# Save text embeddings\n",
    "np.save(vector_path+\"text_vectors\", embeddings)"
   ],
   "outputs": [],
   "execution_count": null
  },
  {
   "cell_type": "code",
   "id": "5d1e04fa537b197f",
   "metadata": {},
   "source": [
    "#Test text embedding retrieval and confirm shape\n",
    "read_embeddings = np.load(vector_path+\"text_vectors.npy\")\n",
    "read_embeddings"
   ],
   "outputs": [],
   "execution_count": null
  },
  {
   "cell_type": "code",
   "id": "c9f1e138f75539ec",
   "metadata": {},
   "source": "",
   "outputs": [],
   "execution_count": null
  },
  {
   "metadata": {},
   "cell_type": "code",
   "source": [
    "#Image Embedding Generation\n",
    "from src.embedding_generation.image_embeddings import *"
   ],
   "id": "eb7d2295f5786d0b",
   "outputs": [],
   "execution_count": null
  },
  {
   "metadata": {},
   "cell_type": "code",
   "source": [
    "image_paths = glob.glob(IMAGES_PATH+\"/*/*.jpg\")\n",
    "image_paths.sort()\n",
    "len(image_paths)"
   ],
   "id": "d3c3f6c154602665",
   "outputs": [],
   "execution_count": null
  },
  {
   "cell_type": "code",
   "id": "d16b9dab0c66343a",
   "metadata": {},
   "source": [
    "image_embedding_generator: ImageEmbeddingGenerator = HFImageEmbeddingGenerator(\"google/vit-base-patch16-224-in21k\")\n",
    "image_embeddings = image_embedding_generator.batch_generate_image_embeddings(image_paths, True)\n",
    "image_embeddings"
   ],
   "outputs": [],
   "execution_count": null
  },
  {
   "metadata": {},
   "cell_type": "code",
   "source": "image_embeddings.shape",
   "id": "577c74dc49e43b15",
   "outputs": [],
   "execution_count": null
  },
  {
   "metadata": {},
   "cell_type": "code",
   "source": [
    "# Save image embeddings\n",
    "np.save(vector_path+\"image_vectors\", image_embeddings)"
   ],
   "id": "5fa70161991755e6",
   "outputs": [],
   "execution_count": null
  }
 ],
 "metadata": {
  "kernelspec": {
   "display_name": "Python 3",
   "language": "python",
   "name": "python3"
  },
  "language_info": {
   "codemirror_mode": {
    "name": "ipython",
    "version": 2
   },
   "file_extension": ".py",
   "mimetype": "text/x-python",
   "name": "python",
   "nbconvert_exporter": "python",
   "pygments_lexer": "ipython2",
   "version": "2.7.6"
  }
 },
 "nbformat": 4,
 "nbformat_minor": 5
}
